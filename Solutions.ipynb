{
 "cells": [
  {
   "cell_type": "markdown",
   "metadata": {
    "delateable": false,
    "editable": false
   },
   "source": [
    "# <div class=\"alert alert-block alert-info\"> <span style=\"font-family: Times New Roman\">Assignment on python fundamentals</span> </div>\n"
   ]
  },
  {
   "cell_type": "markdown",
   "metadata": {
    "delateable": false,
    "editable": false
   },
   "source": [
    "###### Note: \n",
    "<div class=\"alert alert-block alert-danger\"> <span style=\"font-family: Times New Roman\"> \n",
    "    - Kindly use this notebook to solve the programming problems. <br>\n",
    "- Submit assignments with .ipynb file extension only.<br>\n",
    "- Kindly use comments or markdowns to explain logic behind the codes, approach to solve the problem.</span></div>"
   ]
  },
  {
   "cell_type": "markdown",
   "metadata": {
    "delateable": false,
    "editable": false
   },
   "source": [
    "<div class=\"warning\" style='padding:0.1em; background-color:#E9D8FD; color:#69337A'>\n",
    "<span>\n",
    "<p style='margin-top:1em; text-align:left'>\n",
    "<b>1. By using a single 'print' function print the provided string in specified execution format. </b></p>\n",
    "    \n",
    "Hello World     \n",
    "Welcome to 'Python' Programming\n",
    "\n"
   ]
  },
  {
   "cell_type": "code",
   "execution_count": null,
   "metadata": {},
   "outputs": [],
   "source": [
    "# Printing the string in two lines using a single print function\n",
    "print(\"Hello World\\nWelcome to 'Python' Programming\")\n"
   ]
  },
  {
   "cell_type": "markdown",
   "metadata": {
    "delateable": false,
    "editable": false
   },
   "source": [
    "<div class=\"warning\" style='padding:0.1em; background-color:#E9D8FD; color:#69337A'>\n",
    "<span>\n",
    "<p style='margin-top:1em; text-align:left'>\n",
    "<b>2. Check the python version which you are using. </b></p>\n",
    "</span></div>\n"
   ]
  },
  {
   "cell_type": "code",
   "execution_count": null,
   "metadata": {},
   "outputs": [],
   "source": [
    "#check python version\n",
    "import sys\n",
    "\n",
    "print(\"Python version:\")\n",
    "print(sys.version)\n",
    "\n"
   ]
  },
  {
   "cell_type": "markdown",
   "metadata": {
    "delateable": false,
    "editable": false
   },
   "source": [
    "<div class=\"warning\" style='padding:0.1em; background-color:#E9D8FD; color:#69337A'>\n",
    "<span>\n",
    "<p style='margin-top:1em; text-align:left'>\n",
    "<b>3. Design a Python program which can calculate the area by taking radius as input by 'user input' method. </b></p>\n",
    "<table>\n",
    "  <tr>\n",
    "  <td><td>\n",
    "      <br> instead of giving direct values try using \"<b>float(input())</b>\" </td>\n",
    "  </tr>\n",
    "</table>\n",
    "</span>\n",
    "</div>\n"
   ]
  },
  {
   "cell_type": "code",
   "execution_count": null,
   "metadata": {},
   "outputs": [],
   "source": [
    "# Program to calculate the area of a circle\n",
    "import math\n",
    "\n",
    "# Prompt the user for the radius\n",
    "radius = float(input(\"Enter the radius of the circle: \"))\n",
    "\n",
    "# Calculate the area\n",
    "area = math.pi * (radius ** 2)\n",
    "\n",
    "# Display the result\n",
    "print(f\"The area of the circle with radius {radius} is: {area:.2f}\")\n"
   ]
  },
  {
   "cell_type": "markdown",
   "metadata": {
    "delateable": false,
    "editable": false
   },
   "source": [
    "<div class=\"warning\" style='padding:0.1em; background-color:#E9D8FD; color:#69337A'>\n",
    "<span>\n",
    "<p style='margin-top:1em; text-align:left'>\n",
    "<b>4. Write a python program which can take your first and last name seperately and execute as shown below. </b></p>\n",
    "<table>\n",
    "  <tr>\n",
    "  <td><td>\n",
    "      <br><b>Sample execution</b> : Hello 'first name' 'last name', hope you are doing good</td>\n",
    "  </tr>\n",
    "</table>\n",
    "</span></div>\n"
   ]
  },
  {
   "cell_type": "code",
   "execution_count": null,
   "metadata": {},
   "outputs": [],
   "source": [
    "# Ask the user to input their first name\n",
    "first_name = input(\"Please enter your first name: \")\n",
    "\n",
    "# Ask the user to input their last name\n",
    "last_name = input(\"Please enter your last name: \")\n",
    "\n",
    "print(f\"Hello {first_name} {last_name},hope you are doing good\")"
   ]
  },
  {
   "cell_type": "code",
   "execution_count": null,
   "metadata": {},
   "outputs": [],
   "source": []
  },
  {
   "cell_type": "markdown",
   "metadata": {
    "delateable": false,
    "editable": false
   },
   "source": [
    "<div class=\"warning\" style='padding:0.1em; background-color:#E9D8FD; color:#69337A'>\n",
    "<span>\n",
    "<p style='margin-top:1em; text-align:left'>\n",
    "<b>5. Write a python program which can convert kilograms to grams.</b></p>\n",
    "</span></div>\n",
    "\n"
   ]
  },
  {
   "cell_type": "code",
   "execution_count": null,
   "metadata": {},
   "outputs": [],
   "source": [
    "# Input: Take the weight in kilograms\n",
    "kilograms = float(input(\"Please enter kilograms:\"))\n",
    "\n",
    "# Conversion: 1 kilogram = 1000 grams\n",
    "grams = kilograms * 1000\n",
    "\n",
    " # Output: Display the result\n",
    "print(f\"{kilograms} kilograms is equal to {grams} grams.\")"
   ]
  },
  {
   "cell_type": "markdown",
   "metadata": {
    "delateable": false,
    "editable": false
   },
   "source": [
    "<div class=\"warning\" style='padding:0.1em; background-color:#E9D8FD; color:#69337A'>\n",
    "<span>\n",
    "<p style='margin-top:1em; text-align:left'>\n",
    "<b>6. Create a list and store the given elements in the list, and solve the following questions listed below.</b></p>\n",
    "<table>\n",
    "  <tr>\n",
    "  <td><td>\n",
    "      <br><b>Elements</b>: 'Bengaluru','New York', 1971, '1682', (1,2,3,4,5,'Is this tuple?'),\"'Hello,welcome to Python Programming'\"</td>\n",
    "  </tr>\n",
    "</table>\n",
    "</span>  \n",
    "\n",
    "- Try to extract entire tuple by using positive indexing  \n",
    "- Can we add elements into tuple after creating it?\n",
    "- Remove '1682' and 'New York' from the list\n",
    "- Discuss one practical application of tuple and lists\n",
    "- Access 'Bengaluru' by Negitive indexing\n",
    "- add 'Mumbai' into the list\n",
    "\n",
    "- Try to perform one operation on each removal operation on lists \n",
    "\n",
    "1. del\n",
    "2. remove\n",
    "3. pop\n",
    "- Try to perform one operation on each operational\n",
    "1. append\n",
    "2. entend\n",
    "3. insert</div>"
   ]
  },
  {
   "cell_type": "code",
   "execution_count": null,
   "metadata": {},
   "outputs": [],
   "source": [
    "# Creating the list with the given elements\n",
    "my_list = [\n",
    "    'Bengaluru',\n",
    "    'New York',\n",
    "    1971,\n",
    "    '1682',\n",
    "    (1, 2, 3, 4, 5, 'Is this tuple?'),\n",
    "    \"'Hello,welcome to Python Programming'\"\n",
    "]\n",
    "\n",
    "# Extracting the entire tuple using positive indexing\n",
    "tuple_element = my_list[4]\n",
    "\n",
    "# Printing the result\n",
    "print(\"The extracted tuple is:\", tuple_element)\n"
   ]
  },
  {
   "cell_type": "code",
   "execution_count": null,
   "metadata": {},
   "outputs": [],
   "source": [
    "'''Cannot convert the tuple directly but by transferring the tuple into list and add the element and again change it to tuple'''\n",
    "# Original tuple\n",
    "my_tuple = (1, 2, 3, 4, 5, 'Is this tuple?')\n",
    "\n",
    "# Convert tuple to list\n",
    "temp_list = list(my_tuple)\n",
    "\n",
    "# Add a new element\n",
    "temp_list.append('New Element')\n",
    "\n",
    "# Convert back to tuple\n",
    "my_tuple = tuple(temp_list)\n",
    "\n",
    "# Output the updated tuple\n",
    "print(\"Updated Tuple:\", my_tuple)"
   ]
  },
  {
   "cell_type": "code",
   "execution_count": null,
   "metadata": {},
   "outputs": [],
   "source": [
    "# Remove '1682' and 'New York' from the list\n",
    "my_list = [\n",
    "    'Bengaluru',\n",
    "    'New York',\n",
    "    1971,\n",
    "    '1682',\n",
    "    (1, 2, 3, 4, 5, 'Is this tuple?'),\n",
    "    \"'Hello,welcome to Python Programming'\"\n",
    "]\n",
    "# Short method to remove items\n",
    "for item in ['1682', 'New York']:\n",
    "    my_list.remove(item)\n",
    "    \n",
    "\n",
    "# Output the updated list\n",
    "print(\"Updated_List\", my_list)\n",
    "\n",
    "# Delete the element at index 1\n",
    "del my_list[1]\n",
    "\n",
    "# Print the deleted element and updated list\n",
    "print(\"New_Updated_List\",my_list)\n",
    "\n",
    "# Using pop to remove and return the last element\n",
    "removed_element = my_list.pop()\n",
    "\n",
    "print(\"New_Updated_List_pop\",my_list)\n",
    "\n"
   ]
  },
  {
   "cell_type": "code",
   "execution_count": null,
   "metadata": {},
   "outputs": [],
   "source": [
    "#Access 'Bengaluru' by Negitive indexing\n",
    "\n",
    "my_list = [\n",
    "    'Bengaluru',\n",
    "    'New York',\n",
    "    1971,\n",
    "    '1682',\n",
    "    (1, 2, 3, 4, 5, 'Is this tuple?'),\n",
    "    \"'Hello,welcome to Python Programming'\"\n",
    "]\n",
    "\n",
    "# Accessing the first element using negative indexing\n",
    " element = my_list[-6]\n",
    " print(element)\n"
   ]
  },
  {
   "cell_type": "code",
   "execution_count": null,
   "metadata": {},
   "outputs": [],
   "source": [
    "#adding elements into the list\n",
    "\n",
    "my_list = [\n",
    "    'Bengaluru',\n",
    "    'New York',\n",
    "    1971,\n",
    "    '1682',\n",
    "    (1, 2, 3, 4, 5, 'Is this tuple?'),\n",
    "    \"'Hello,welcome to Python Programming'\"\n",
    "]\n",
    "\n",
    "# Append \"Mumbai\" to the end of the list\n",
    "\n",
    "my_list.append(\"Mumbai\")\n",
    "\n",
    "print(\"Appened_list\",my_list)\n",
    "\n",
    "# Insert \"Delhi\" at the second position (index 1) using insert\n",
    "\n",
    "my_list.insert(1,\"Delhi\")\n",
    "\n",
    "print(\"Insert_List\",my_list)\n",
    "\n",
    "#Insert \"Chennai\",\"Kerala\" Using extend to add multiple cities\n",
    "my_list.extend([\"Chennai\",\"Kerala\"])\n",
    "print(\"Extended_list\",my_list)"
   ]
  },
  {
   "cell_type": "markdown",
   "metadata": {
    "delateable": false,
    "editable": false
   },
   "source": [
    "<div class=\"warning\" style='padding:0.1em; background-color:#E9D8FD; color:#69337A'>\n",
    "<span>\n",
    "<p style='margin-top:1em; text-align:left'>\n",
    "<b>7. Write a python program which can calculate the electricity bill by considering the no. of units consumed and other parameters are mentioned below.</b></p>\n",
    "</span>  \n",
    "\n",
    "- If units consumed is less than 50 then bill amount should be 100INR.\n",
    "- If units consumed between 50 - 300 then each unit will be charged at 4.5 INR.\n",
    "- If units are consumed more than 300 then that billed individual have to pay base pay as 1000INR and 300 units will be reduced from his total consumed units and for remaining units 7 INR will be charged for each unit.\n",
    "</div>\n",
    "\n",
    "\n"
   ]
  },
  {
   "cell_type": "code",
   "execution_count": null,
   "metadata": {},
   "outputs": [],
   "source": [
    "def calculate_electricity_bill(units_consumed):\n",
    "    # Condition 1: If units consumed is less than 50\n",
    "    if units_consumed < 50:\n",
    "        bill_amount = 100  # Fixed bill amount for less than 50 units\n",
    "    # Condition 2: If units consumed is between 50 and 300\n",
    "    elif 50 <= units_consumed <= 300:\n",
    "        bill_amount = units_consumed * 4.5  # Each unit is charged at 4.5 INR\n",
    "    # Condition 3: If units consumed is more than 300\n",
    "    else:\n",
    "        base_pay = 1000  # Base pay for more than 300 units\n",
    "        remaining_units = units_consumed - 300  # Subtract 300 from total units\n",
    "        additional_units_bill = remaining_units * 7  # 7 INR for each unit above 300\n",
    "        bill_amount = base_pay + additional_units_bill  # Total bill calculation\n",
    "\n",
    "    return bill_amount\n",
    "\n",
    "# Input: Number of units consumed\n",
    "units = float(input(\"Enter the number of units consumed: \"))\n",
    "\n",
    "# Calculate and display the electricity bill\n",
    "bill = calculate_electricity_bill(units)\n",
    "print(f\"Total electricity bill is: {bill} INR\")\n",
    "\n",
    "\n",
    "\n"
   ]
  },
  {
   "cell_type": "markdown",
   "metadata": {
    "delateable": false,
    "editable": false
   },
   "source": [
    "<div class=\"warning\" style='padding:0.1em; background-color:#E9D8FD; color:#69337A'>\n",
    "<span>\n",
    "<p style='margin-top:1em; text-align:left'>\n",
    "<b>8. Write a program to calculate the tax of the vehicle based on the price.</b></p>\n",
    "</span>  \n",
    "- below are the parameters to consider\n",
    "\n",
    "    Cost price (in Rs)                                            Tax\n",
    "        > 150000                                                   18%\n",
    "        >100000 and <=150000                                       15 %\n",
    "        > 0 and <= 100000                                          10%\n",
    "         \n",
    "        "
   ]
  },
  {
   "cell_type": "code",
   "execution_count": null,
   "metadata": {},
   "outputs": [],
   "source": [
    "def calculate_tax_vehicle(cost_price):\n",
    "    #Conditions for Tax Calculation\n",
    "      if 0< cost_price <=100000:\n",
    "        tax_payable=cost_price*0.10\n",
    "      elif 100000< cost_price <=150000:\n",
    "         tax_payable=cost_price*0.15\n",
    "      elif cost_price > 150000:\n",
    "        tax_payable = cost_price * 0.18\n",
    "      else:\n",
    "        return \"Invalid cost price.\"\n",
    "\n",
    "      return tax_payable\n",
    "\n",
    "# Input: Cost Price\n",
    "cost_price = float(input(\"Enter the cost of the vehicle: \"))\n",
    "tax_payable = calculate_tax_vehicle(cost_price)\n",
    "\n",
    "if isinstance(tax_payable, str):\n",
    "    print(tax_payable)\n",
    "else:\n",
    "    print(f\"Total Tax Payable: {tax_payable:.2f} INR\")\n",
    "\n",
    "         \n",
    "          "
   ]
  },
  {
   "cell_type": "markdown",
   "metadata": {
    "delateable": false,
    "editable": false
   },
   "source": [
    "<div class=\"warning\" style='padding:0.1em; background-color:#E9D8FD; color:#69337A'>\n",
    "<span>\n",
    "<p style='margin-top:1em; text-align:left'>\n",
    "<b>9. Write a program to check if the input is positive or negative.</b></p>\n",
    "</span></div>\n",
    "\n"
   ]
  },
  {
   "cell_type": "code",
   "execution_count": null,
   "metadata": {},
   "outputs": [],
   "source": [
    "#Taking input from the user\n",
    "\n",
    "number=float(input(\"Enter the number:\"))\n",
    " # Checking if the number is positive, negative, or zero\n",
    "\n",
    "if number > 0:\n",
    "    print(\"The Number is Positive.\")\n",
    "elif number < 0:    \n",
    "    print(\"The Number is Negative.\")\n",
    "else:\n",
    "    print(\"The Number is Zero.\")\n",
    "            \n",
    "  "
   ]
  },
  {
   "cell_type": "markdown",
   "metadata": {
    "delateable": false,
    "editable": false
   },
   "source": [
    "<div class=\"warning\" style='padding:0.1em; background-color:#E9D8FD; color:#69337A'>\n",
    "<span>\n",
    "<p style='margin-top:1em; text-align:left'>\n",
    "<b>10. Define a function which can multiply the string with n number of times.</b></p>\n",
    "</span>\n",
    "\n",
    " \n",
    "- string = \"python programming\"</div>\n"
   ]
  },
  {
   "cell_type": "code",
   "execution_count": null,
   "metadata": {},
   "outputs": [],
   "source": [
    "#Define Function to multiply string\n",
    "\n",
    "def multiple_string(string,n):\n",
    "   return ','.join([string] * n)\n",
    "\n",
    "#Take input from the user\n",
    "string= \"python programming\"\n",
    "n = 3  #Specify the number of times to multiply the string\n",
    "\n",
    "result= multiple_string(string,n)\n",
    "\n",
    "print(result)\n",
    "\n",
    "\n",
    "    \n",
    "    \n"
   ]
  },
  {
   "cell_type": "markdown",
   "metadata": {
    "delateable": false,
    "editable": false
   },
   "source": [
    "<div class=\"warning\" style='padding:0.1em; background-color:#E9D8FD; color:#69337A'>\n",
    "<span>\n",
    "<p style='margin-top:1em; text-align:left'>\n",
    "<b>11. Define a function which can sum up two numbers.</b></p>\n",
    "</span>\n",
    "\n"
   ]
  },
  {
   "cell_type": "code",
   "execution_count": null,
   "metadata": {},
   "outputs": [],
   "source": [
    "# Function to sum up two numbers\n",
    "def sum_two_numbers(num1,num2):\n",
    "  return num1+num2\n",
    "\n",
    "number1=float(input(\"Enter the first number:\"))\n",
    "number2=float(input(\"Enter the second number:\"))\n",
    "result=sum_two_numbers(number1,number2)   \n",
    "\n",
    "print(\"Total of numbers is:\",result)\n",
    "    \n",
    "                  "
   ]
  },
  {
   "cell_type": "markdown",
   "metadata": {
    "delateable": false,
    "editable": false
   },
   "source": [
    "<div class=\"warning\" style='padding:0.1em; background-color:#E9D8FD; color:#69337A'>\n",
    "<span>\n",
    "<p style='margin-top:1em; text-align:left'>\n",
    "<b>12. Define a function which can identify if a user has entered specific string or not.</b></p>\n",
    "</span>\n",
    "\n",
    " \n",
    "- specified string = \"India\"</div>\n",
    "\n"
   ]
  },
  {
   "cell_type": "code",
   "execution_count": null,
   "metadata": {},
   "outputs": [],
   "source": [
    "#Define function for multiply the string\n",
    "def contain_specified_string(user_input):\n",
    "    specified_string=\"India\"\n",
    "    if specified_string in user_input:\n",
    "      return True\n",
    "    else:\n",
    "      return False\n",
    "#let user put the value\n",
    "user_input= input(\"Enter the String:\")\n",
    "if contain_specified_string(user_input):\n",
    "        print(\"Specified String is Present\")\n",
    "else:\n",
    "        print(\"Specified String is not Present\")\n",
    " \n",
    "\n",
    "     "
   ]
  },
  {
   "cell_type": "markdown",
   "metadata": {
    "delateable": false,
    "editable": false
   },
   "source": [
    "<div class=\"warning\" style='padding:0.1em; background-color:#E9D8FD; color:#69337A'>\n",
    "<span>\n",
    "<p style='margin-top:1em; text-align:left'>\n",
    "<b>13. Define a function which will greet by taking user name as input.</b></p>\n",
    "</span>\n",
    " \n",
    "- input = name\n",
    "- hello 'name', hope you are doing well</div>\n",
    "\n",
    "\n",
    "\n"
   ]
  },
  {
   "cell_type": "code",
   "execution_count": null,
   "metadata": {},
   "outputs": [],
   "source": [
    "#Define the function\n",
    "def greet_the_user(name):\n",
    "    print(f\"Hello '{name}', hope you are doing well!\")\n",
    "\n",
    "#Take input from the user\n",
    "user_name= input(\"Please Enter Your Name:\")\n",
    "greet_the_user(user_name)\n",
    "\n",
    "\n",
    "         \n",
    "        "
   ]
  },
  {
   "cell_type": "markdown",
   "metadata": {
    "delateable": false,
    "editable": false
   },
   "source": [
    "<div class=\"warning\" style='padding:0.1em; background-color:#E9D8FD; color:#69337A'>\n",
    "<span>\n",
    "<p style='margin-top:1em; text-align:left'>\n",
    "<b>14. Define a function which can give us the entire prime numbers within the given range.</b></p>\n",
    "<b>- For range(), input should be taken from the user.</b></p>\n",
    "</span>\n",
    "</div>\n",
    "\n"
   ]
  },
  {
   "cell_type": "code",
   "execution_count": null,
   "metadata": {},
   "outputs": [],
   "source": [
    "#Define prime number function \n",
    "def is_prime(num):\n",
    "    if num < 2:\n",
    "        return False\n",
    "    for i in range(2, num):\n",
    "        if num % i == 0:\n",
    "            return False\n",
    "    return True\n",
    "\n",
    "def prime_numbers_in_range():\n",
    "    start = int(input(\"Enter the start of the range: \"))\n",
    "    end = int(input(\"Enter the end of the range: \"))\n",
    "    \n",
    "    print(f\"Prime numbers between {start} and {end} are:\")\n",
    "    for num in range(start, end + 1):\n",
    "        if is_prime(num):\n",
    "            print(num, end=\" \")\n",
    "\n",
    "# Call the function\n",
    "prime_numbers_in_range()"
   ]
  },
  {
   "cell_type": "markdown",
   "metadata": {
    "delateable": false,
    "editable": false
   },
   "source": [
    "<div class=\"warning\" style='padding:0.1em; background-color:#E9D8FD; color:#69337A'>\n",
    "<span>\n",
    "<p style='margin-top:1em; text-align:left'>\n",
    "<b>15.Check if a given string is palindrome.\n",
    "</b></p>\n",
    "</span>\n",
    "<br> A string is palindrome if the reverse of the string is same as itself.\n",
    "<br> For eg. madam\n",
    "<br> Print \" `string` is palindrome\" if it is palindrome \n",
    "<br> else \" `string` is not a palindrome\" if it is not a palindrome.\n",
    "\n",
    "<br><b> Hint : Use slicing to get reverse of the string.\n"
   ]
  },
  {
   "cell_type": "code",
   "execution_count": null,
   "metadata": {},
   "outputs": [],
   "source": [
    "def check_palindrome():\n",
    "    # Input string from the user\n",
    "    string = input(\"Enter a string: \")\n",
    "    \n",
    "    # Check if the string is equal to its reverse using slicing\n",
    "    if string == string[::-1]:\n",
    "        print(f'\"{string}\" is palindrome')\n",
    "    else:\n",
    "        print(f'\"{string}\" is not a palindrome')\n",
    "\n",
    "# Call the function\n",
    "check_palindrome()"
   ]
  },
  {
   "cell_type": "markdown",
   "metadata": {
    "delateable": false,
    "editable": false
   },
   "source": [
    "<div class=\"warning\" style='padding:0.1em; background-color:#E9D8FD; color:#69337A'>\n",
    "<span>\n",
    "<p style='margin-top:1em; text-align:left'>\n",
    "<b>16. Write a python program to find n is a leap year.\n",
    "</b></p>\n",
    "</span>\n",
    "<br> Print \"n is a leap year\" if the given year is leap year.\n",
    "<br> Print \"n is not a leap year\" if the given year is not leap year.\n",
    "<br> Replace n with given year.\n",
    "    \n",
    "<br><b>   Hint : Use nested if-else </b>\n",
    "</div>\n"
   ]
  },
  {
   "cell_type": "code",
   "execution_count": null,
   "metadata": {},
   "outputs": [],
   "source": [
    "def check_leap_year():\n",
    "    year = int(input(\"Enter a year: \"))  # Take input from the user\n",
    "    \n",
    "    # Check if the year is divisible by 4\n",
    "    if year % 4 == 0:\n",
    "        # Nested if-else: Check if it's divisible by 100\n",
    "        if year % 100 == 0:\n",
    "            # Further nested: Check if it's divisible by 400\n",
    "            if year % 400 == 0:\n",
    "                print(f\"{year} is a leap year\")\n",
    "            else:\n",
    "                print(f\"{year} is not a leap year\")\n",
    "        else:\n",
    "            print(f\"{year} is a leap year\")\n",
    "    else:\n",
    "        print(f\"{year} is not a leap year\")\n",
    "\n",
    "# Call the function\n",
    "check_leap_year()"
   ]
  },
  {
   "cell_type": "markdown",
   "metadata": {
    "delateable": false,
    "editable": false
   },
   "source": [
    "<div class=\"warning\" style='padding:0.1em; background-color:#E9D8FD; color:#69337A'>\n",
    "<span>\n",
    "<p style='margin-top:1em; text-align:left'>\n",
    "<b>17. Define a function to check if n is leap year.</b></p>\n",
    "</span>\n",
    "   \n",
    "<b> Hint: Using the calendar module </b>\n",
    "</div>\n"
   ]
  },
  {
   "cell_type": "code",
   "execution_count": null,
   "metadata": {},
   "outputs": [],
   "source": [
    "import calendar\n",
    "\n",
    "def check_leap_year(n):\n",
    "    # Use calendar.isleap() to check if n is a leap year\n",
    "    if calendar.isleap(n):\n",
    "        print(f\"{n} is a leap year\")\n",
    "    else:\n",
    "        print(f\"{n} is not a leap year\")\n",
    "\n",
    "# Example usage\n",
    "year = int(input(\"Enter a year: \"))\n",
    "check_leap_year(year)"
   ]
  },
  {
   "cell_type": "code",
   "execution_count": null,
   "metadata": {},
   "outputs": [],
   "source": []
  },
  {
   "cell_type": "markdown",
   "metadata": {
    "delateable": false,
    "editable": false
   },
   "source": [
    "<div class=\"warning\" style='padding:0.1em; background-color:#E9D8FD; color:#69337A'>\n",
    "<span>\n",
    "<p style='margin-top:1em; text-align:left'>\n",
    "<b>18. Find the largest among three numbers.</b></p>\n",
    "</span>\n",
    "\n",
    " eg. Consider a,b,c as the three numbers, find which is the  largest number among them."
   ]
  },
  {
   "cell_type": "code",
   "execution_count": null,
   "metadata": {},
   "outputs": [],
   "source": [
    "def find_largest(a, b, c):\n",
    "    # Use nested if-else to compare the numbers\n",
    "    if a >= b and a >= c:\n",
    "        print(f\"{a} is the largest number\")\n",
    "    elif b >= a and b >= c:\n",
    "        print(f\"{b} is the largest number\")\n",
    "    else:\n",
    "        print(f\"{c} is the largest number\")\n",
    "\n",
    "# Example usage\n",
    "a = int(input(\"Enter the first number: \"))\n",
    "b = int(input(\"Enter the second number: \"))\n",
    "c = int(input(\"Enter the third number: \"))\n",
    "find_largest(a, b, c)"
   ]
  },
  {
   "cell_type": "code",
   "execution_count": null,
   "metadata": {},
   "outputs": [],
   "source": []
  },
  {
   "cell_type": "markdown",
   "metadata": {
    "delateable": false,
    "editable": false
   },
   "source": [
    "\n",
    "<div class=\"warning\" style='padding:0.1em; background-color:#E9D8FD; color:#69337A'>\n",
    "<span>\n",
    "<p style='margin-top:1em; text-align:left'>\n",
    "<b>19. Write a python program to print even numbers from 1 to 15 by using range() function.\n",
    "</b></p>\n",
    "</span>\n"
   ]
  },
  {
   "cell_type": "code",
   "execution_count": null,
   "metadata": {},
   "outputs": [],
   "source": [
    "# Use range() to generate even numbers from 1 to 15\n",
    "for num in range(2, 16, 2):  # Start at 2, go up to 15, step by 2 (even numbers)\n",
    "    print(num)"
   ]
  },
  {
   "cell_type": "code",
   "execution_count": null,
   "metadata": {},
   "outputs": [],
   "source": []
  },
  {
   "cell_type": "markdown",
   "metadata": {
    "delateable": false,
    "editable": false
   },
   "source": [
    "<div class=\"warning\" style='padding:0.1em; background-color:#E9D8FD; color:#69337A'>\n",
    "<span>\n",
    "<p style='margin-top:1em; text-align:left'>\n",
    "<b>20. Write a program to guess the integer which is selected by computer using  randint() function.\n",
    "</b></p>\n",
    "</span>\n",
    "\n",
    "- Use random() and randint().\n",
    "- Range should be 1 to 10.\n",
    "- If user's number is greater than 10 then program should say your guess is too high.\n",
    "- If user input is matches with the computer choice then your program should say \"yey! correct guess\".\n",
    "- Otherwise your program should say too low.\n",
    "\n",
    "    <b>- Important point to note is, this must be an iterative process until the correct guess.</div>"
   ]
  },
  {
   "cell_type": "code",
   "execution_count": null,
   "metadata": {},
   "outputs": [],
   "source": [
    "import random\n",
    "\n",
    "def guess_number():\n",
    "    # Computer selects a random number between 1 and 10\n",
    "    computer_choice = random.randint(1, 10)\n",
    "    \n",
    "    # Loop until the user guesses correctly\n",
    "    while True:\n",
    "        # Take user input\n",
    "        user_guess = int(input(\"Guess the number between 1 and 10: \"))\n",
    "        \n",
    "        # Check if the user's guess is too high, too low, or correct\n",
    "        if user_guess > 10:\n",
    "            print(\"Your guess is too high.\")\n",
    "        elif user_guess == computer_choice:\n",
    "            print(\"Yey! Correct guess.\")\n",
    "            break  # Exit the loop if the guess is correct\n",
    "        else:\n",
    "            print(\"Too low. Try again.\")\n",
    "\n",
    "# Call the function to start the game\n",
    "guess_number()\n"
   ]
  },
  {
   "cell_type": "code",
   "execution_count": null,
   "metadata": {},
   "outputs": [],
   "source": []
  }
 ],
 "metadata": {
  "kernelspec": {
   "display_name": "Python [conda env:base] *",
   "language": "python",
   "name": "conda-base-py"
  },
  "language_info": {
   "codemirror_mode": {
    "name": "ipython",
    "version": 3
   },
   "file_extension": ".py",
   "mimetype": "text/x-python",
   "name": "python",
   "nbconvert_exporter": "python",
   "pygments_lexer": "ipython3",
   "version": "3.12.7"
  }
 },
 "nbformat": 4,
 "nbformat_minor": 4
}
